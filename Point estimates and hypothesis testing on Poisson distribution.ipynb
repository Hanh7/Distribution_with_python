{
 "cells": [
  {
   "cell_type": "markdown",
   "metadata": {},
   "source": [
    "### Poisson distribution of a population"
   ]
  },
  {
   "cell_type": "code",
   "execution_count": 9,
   "metadata": {},
   "outputs": [],
   "source": [
    "import numpy as np\n",
    "import pandas as pd\n",
    "from scipy import stats\n",
    "from scipy.stats import poisson"
   ]
  },
  {
   "cell_type": "code",
   "execution_count": 10,
   "metadata": {},
   "outputs": [],
   "source": [
    "np.random.seed(1234)"
   ]
  },
  {
   "cell_type": "code",
   "execution_count": 11,
   "metadata": {},
   "outputs": [],
   "source": [
    "long_breaks = stats.poisson.rvs(loc=10, mu=60, size=3000)\n",
    "#3000 people taking about 60 break\n",
    "#long break var represents 3000 answers to question: how many mins on an average do you take breaks for?"
   ]
  },
  {
   "cell_type": "code",
   "execution_count": 12,
   "metadata": {},
   "outputs": [
    {
     "data": {
      "text/plain": [
       "<AxesSubplot:>"
      ]
     },
     "execution_count": 12,
     "metadata": {},
     "output_type": "execute_result"
    },
    {
     "data": {
      "image/png": "[encoded data removed]",
      "text/plain": [
       "<Figure size 432x288 with 1 Axes>"
      ]
     },
     "metadata": {
      "needs_background": "light"
     },
     "output_type": "display_data"
    }
   ],
   "source": [
    "pd.Series(long_breaks).hist()"
   ]
  },
  {
   "cell_type": "code",
   "execution_count": 13,
   "metadata": {},
   "outputs": [],
   "source": [
    "short_breaks = stats.poisson.rvs(loc =10, mu=15, size = 6000)\n",
    "#short_breaks var represents 6000 answers saying they take break in 15mins"
   ]
  },
  {
   "cell_type": "code",
   "execution_count": 14,
   "metadata": {},
   "outputs": [
    {
     "data": {
      "text/plain": [
       "<AxesSubplot:>"
      ]
     },
     "execution_count": 14,
     "metadata": {},
     "output_type": "execute_result"
    },
    {
     "data": {
      "image/png": "[encoded data removed]",
      "text/plain": [
       "<Figure size 432x288 with 1 Axes>"
      ]
     },
     "metadata": {
      "needs_background": "light"
     },
     "output_type": "display_data"
    }
   ],
   "source": [
    "pd.Series(short_breaks).hist()"
   ]
  },
  {
   "cell_type": "code",
   "execution_count": 15,
   "metadata": {},
   "outputs": [],
   "source": [
    "breaks = np.concatenate((long_breaks, short_breaks))"
   ]
  },
  {
   "cell_type": "code",
   "execution_count": 16,
   "metadata": {
    "scrolled": true
   },
   "outputs": [
    {
     "data": {
      "text/plain": [
       "<AxesSubplot:>"
      ]
     },
     "execution_count": 16,
     "metadata": {},
     "output_type": "execute_result"
    },
    {
     "data": {
      "image/png": "[encoded data removed]",
      "text/plain": [
       "<Figure size 432x288 with 1 Axes>"
      ]
     },
     "metadata": {
      "needs_background": "light"
     },
     "output_type": "display_data"
    }
   ],
   "source": [
    "pd.Series(breaks).hist()"
   ]
  },
  {
   "cell_type": "code",
   "execution_count": 17,
   "metadata": {},
   "outputs": [
    {
     "data": {
      "text/plain": [
       "39.99944444444444"
      ]
     },
     "execution_count": 17,
     "metadata": {},
     "output_type": "execute_result"
    }
   ],
   "source": [
    "#breaks is a random variable of a population of 9000 people\n",
    "#39.999 is the population parameter\n",
    "breaks.mean()"
   ]
  },
  {
   "cell_type": "code",
   "execution_count": 19,
   "metadata": {},
   "outputs": [],
   "source": [
    "sample_breaks = np.random.choice (a = breaks, size = 100)\n",
    "#taking a sample of 100"
   ]
  },
  {
   "cell_type": "code",
   "execution_count": 20,
   "metadata": {},
   "outputs": [
    {
     "data": {
      "text/plain": [
       "-1.140555555555558"
      ]
     },
     "execution_count": 20,
     "metadata": {},
     "output_type": "execute_result"
    }
   ],
   "source": [
    "breaks.mean() - sample_breaks.mean()\n",
    "#check if the sample statistics could be a good estimate of a population parameter"
   ]
  },
  {
   "cell_type": "markdown",
   "metadata": {},
   "source": [
    "Employee population"
   ]
  },
  {
   "cell_type": "code",
   "execution_count": 22,
   "metadata": {},
   "outputs": [],
   "source": [
    "employee_races = ([\"white\"]*2000) + ([\"black\"]*1000) + ([\"hispanic\"]*1000) + ([\"asian\"]*3000) + ([\"other\"]*3000)"
   ]
  },
  {
   "cell_type": "code",
   "execution_count": 21,
   "metadata": {},
   "outputs": [],
   "source": [
    "import random"
   ]
  },
  {
   "cell_type": "code",
   "execution_count": 23,
   "metadata": {},
   "outputs": [],
   "source": [
    "demo_sample = random.sample (employee_races, 1000)"
   ]
  },
  {
   "cell_type": "code",
   "execution_count": 26,
   "metadata": {},
   "outputs": [
    {
     "data": {
      "text/plain": [
       "list"
      ]
     },
     "execution_count": 26,
     "metadata": {},
     "output_type": "execute_result"
    }
   ],
   "source": [
    "type(demo_sample)"
   ]
  },
  {
   "cell_type": "code",
   "execution_count": 83,
   "metadata": {},
   "outputs": [
    {
     "name": "stdout",
     "output_type": "stream",
     "text": [
      "white proportion estimate: \n",
      "0.188\n",
      "black proportion estimate: \n",
      "0.109\n",
      "asian proportion estimate: \n",
      "0.318\n",
      "other proportion estimate: \n",
      "0.284\n",
      "hispanic proportion estimate: \n",
      "0.101\n"
     ]
    }
   ],
   "source": [
    "for race in set(demo_sample):\n",
    "    print (race + \" proportion estimate: \")\n",
    "    print (demo_sample.count(race)/1000.)"
   ]
  },
  {
   "cell_type": "markdown",
   "metadata": {},
   "source": [
    "trong sample 1000 value, co 10.1% la hispanic"
   ]
  },
  {
   "cell_type": "markdown",
   "metadata": {},
   "source": [
    "### Sampling distributions"
   ]
  },
  {
   "cell_type": "code",
   "execution_count": 31,
   "metadata": {},
   "outputs": [],
   "source": [
    "point_estimates = [] #list of sample means from sampling distributions"
   ]
  },
  {
   "cell_type": "code",
   "execution_count": 86,
   "metadata": {},
   "outputs": [
    {
     "data": {
      "text/plain": [
       "array([[<AxesSubplot:title={'center':'0'}>]], dtype=object)"
      ]
     },
     "execution_count": 86,
     "metadata": {},
     "output_type": "execute_result"
    },
    {
     "data": {
      "image/png": "[encoded data removed]",
      "text/plain": [
       "<Figure size 432x288 with 1 Axes>"
      ]
     },
     "metadata": {
      "needs_background": "light"
     },
     "output_type": "display_data"
    }
   ],
   "source": [
    "for x in range(500):\n",
    "    sample = np.random.choice(a=breaks, size =100)\n",
    "    point_estimates.append(sample.mean())\n",
    "pd.DataFrame(point_estimates).hist()\n",
    "#this is to see the final result of central limit theorem"
   ]
  },
  {
   "cell_type": "code",
   "execution_count": 87,
   "metadata": {},
   "outputs": [
    {
     "data": {
      "text/plain": [
       "0.022989444444441176"
      ]
     },
     "execution_count": 87,
     "metadata": {},
     "output_type": "execute_result"
    }
   ],
   "source": [
    "breaks.mean() - np.array(point_estimates).mean()"
   ]
  },
  {
   "cell_type": "markdown",
   "metadata": {},
   "source": [
    "### Computing confidence intervals to estimate population parameters"
   ]
  },
  {
   "cell_type": "code",
   "execution_count": 36,
   "metadata": {},
   "outputs": [],
   "source": [
    "import math"
   ]
  },
  {
   "cell_type": "code",
   "execution_count": 37,
   "metadata": {},
   "outputs": [],
   "source": [
    "sample_size = 100"
   ]
  },
  {
   "cell_type": "code",
   "execution_count": 38,
   "metadata": {},
   "outputs": [],
   "source": [
    "sample = np.random.choice (a =breaks, size = sample_size)"
   ]
  },
  {
   "cell_type": "code",
   "execution_count": 41,
   "metadata": {},
   "outputs": [],
   "source": [
    "sample_mean = sample.mean()"
   ]
  },
  {
   "cell_type": "code",
   "execution_count": 42,
   "metadata": {},
   "outputs": [],
   "source": [
    "sample_stdev = sample.std()"
   ]
  },
  {
   "cell_type": "code",
   "execution_count": 43,
   "metadata": {},
   "outputs": [],
   "source": [
    "sigma = sample_stdev/math.sqrt(sample_size) #population stdev estimate"
   ]
  },
  {
   "cell_type": "code",
   "execution_count": 44,
   "metadata": {},
   "outputs": [
    {
     "data": {
      "text/plain": [
       "(36.75133372476455, 45.52866627523545)"
      ]
     },
     "execution_count": 44,
     "metadata": {},
     "output_type": "execute_result"
    }
   ],
   "source": [
    "stats.t.interval(alpha = 0.95, df = sample_size-1, loc = sample_mean, scale = sigma)"
   ]
  },
  {
   "cell_type": "markdown",
   "metadata": {},
   "source": [
    "The CI includes population mean of 39.999 "
   ]
  },
  {
   "cell_type": "markdown",
   "metadata": {},
   "source": [
    "#### Take 10000 CIs to see how population mean fall: CI implies the frequency (percent chance) that the interval contains population mean "
   ]
  },
  {
   "cell_type": "code",
   "execution_count": 46,
   "metadata": {},
   "outputs": [],
   "source": [
    "#ham tinh toan CI\n",
    "def makeConfidenceInterval():\n",
    "    sample_size = 100\n",
    "    sample = np.random.choice (a = breaks, size = sample_size)\n",
    "    sample_mean = sample.mean() #point estimate\n",
    "    sample_stdev = sample.std()\n",
    "    sigma = sample_stdev/math.sqrt(sample_size)\n",
    "    return stats.t.interval (alpha = 0.95, df = sample_size -1, loc = sample_mean, scale = sigma)"
   ]
  },
  {
   "cell_type": "markdown",
   "metadata": {},
   "source": [
    "#### Test the probability that a single CI will contain the true population mean of 39.999"
   ]
  },
  {
   "cell_type": "code",
   "execution_count": 51,
   "metadata": {},
   "outputs": [
    {
     "name": "stdout",
     "output_type": "stream",
     "text": [
      "0.952\n"
     ]
    }
   ],
   "source": [
    "times_in_interval = 0.\n",
    "for i in range(10000):\n",
    "    interval = makeConfidenceInterval()\n",
    "    if 39.999 >= interval[0] and 39.999 <= interval [1]:\n",
    "        times_in_interval += 1 #neu thoa man dieu kien tren thi 39.999 falls vao CI, tinh la 1 lan\n",
    "print (times_in_interval/10000) #so lan/10000 mau = probability can tinh"
   ]
  },
  {
   "cell_type": "markdown",
   "metadata": {},
   "source": [
    "Luu y ve code: Ket qua tra ra probability cua tung lan 1, ma khong add up thanh 1 lan => phai de print ket qua o ngoai vong for. \n",
    "\n",
    "Nhan xet: 95% of CIs contained actual population mean"
   ]
  },
  {
   "cell_type": "code",
   "execution_count": 47,
   "metadata": {},
   "outputs": [],
   "source": [
    "times_in_interval = 0."
   ]
  },
  {
   "cell_type": "markdown",
   "metadata": {},
   "source": [
    "#### What if we change the confidence level = 1 - significance level?"
   ]
  },
  {
   "cell_type": "code",
   "execution_count": 81,
   "metadata": {},
   "outputs": [
    {
     "name": "stdout",
     "output_type": "stream",
     "text": [
      "confidence level 0.5 has an interval size of 11.62\n",
      "confidence level 0.8 has an interval size of 11.62\n",
      "confidence level 0.85 has an interval size of 11.62\n",
      "confidence level 0.9 has an interval size of 11.62\n",
      "confidence level 0.95 has an interval size of 11.62\n",
      "confidence level 0.99 has an interval size of 11.62\n"
     ]
    }
   ],
   "source": [
    "for confidence_level in (0.5, 0.8, 0.85, 0.9, 0.95, 0.99): \n",
    "    confidence_interval = stats.t.interval (alpha = confidence, df = sample_size -1, loc = sample_mean, scale = sigma)\n",
    "    size_of_interval = round(confidence_interval[1]-confidence_interval[0], 2)\n",
    "    print (\"confidence level {0} has an interval size of {1}\".format (confidence_level, size_of_interval))"
   ]
  },
  {
   "cell_type": "markdown",
   "metadata": {},
   "source": [
    "Nhan xet: confidence interval tang khi tang confidence level"
   ]
  },
  {
   "cell_type": "markdown",
   "metadata": {},
   "source": [
    "### Hypothesis testing: t-test of sample mean's significance"
   ]
  },
  {
   "cell_type": "markdown",
   "metadata": {},
   "source": [
    "#### Cau hoi: Does the engineering department take breaks of the same duration as the company as a whole?"
   ]
  },
  {
   "cell_type": "markdown",
   "metadata": {},
   "source": [
    "Ho: the engineering department takes longer break\n",
    "\n",
    "Ha: the engineering department takes shorter break"
   ]
  },
  {
   "cell_type": "code",
   "execution_count": 59,
   "metadata": {},
   "outputs": [
    {
     "name": "stdout",
     "output_type": "stream",
     "text": [
      "34.8825\n",
      "39.99944444444444\n"
     ]
    }
   ],
   "source": [
    "long_breaks_in_engineering = stats.poisson.rvs(loc = 10, mu = 55, size = 100)\n",
    "short_breaks_in_engineering = stats.poisson.rvs(loc=10, mu=15, size =300)\n",
    "engineering_breaks = np.concatenate((long_breaks_in_engineering, short_breaks_in_engineering))\n",
    "print(engineering_breaks.mean())\n",
    "print(breaks.mean())"
   ]
  },
  {
   "cell_type": "code",
   "execution_count": 60,
   "metadata": {},
   "outputs": [],
   "source": [
    "pop_mean = breaks.mean()"
   ]
  },
  {
   "cell_type": "code",
   "execution_count": 65,
   "metadata": {},
   "outputs": [],
   "source": [
    "t_statistic, p_value = stats.ttest_1samp(a=engineering_breaks, popmean=pop_mean)"
   ]
  },
  {
   "cell_type": "code",
   "execution_count": 66,
   "metadata": {},
   "outputs": [
    {
     "name": "stdout",
     "output_type": "stream",
     "text": [
      "-5.7427401794634845\n"
     ]
    }
   ],
   "source": [
    "print (t_statistic)"
   ]
  },
  {
   "cell_type": "code",
   "execution_count": 67,
   "metadata": {},
   "outputs": [
    {
     "name": "stdout",
     "output_type": "stream",
     "text": [
      "1.8485738627160373e-08\n"
     ]
    }
   ],
   "source": [
    "print (p_value) "
   ]
  },
  {
   "cell_type": "markdown",
   "metadata": {},
   "source": [
    "meaning: we should expect xx% of chance to see this value appear. Hence, if the p-value is very small, chance of seeing the null hypothesis appear is low. We can reject the null hypothesis"
   ]
  },
  {
   "cell_type": "markdown",
   "metadata": {},
   "source": [
    "### Hypothesis testing: \n",
    "1. Chi-square test for goodness of fit: Does the dist. of observed value fit an expected distribution? \n",
    "\n",
    "Ho: The observed dist. fits the expected one\n",
    "\n",
    "2. Chi-square test for association/independence between 2 categorical var: is there any difference between people interacting with web A and web B in an A/B testing?\n",
    "\n",
    "Ho: There is no association between var"
   ]
  },
  {
   "cell_type": "code",
   "execution_count": 73,
   "metadata": {},
   "outputs": [
    {
     "data": {
      "text/plain": [
       "(30.1817679275599, 1.26374310311106e-06)"
      ]
     },
     "execution_count": 73,
     "metadata": {},
     "output_type": "execute_result"
    }
   ],
   "source": [
    "observed = [102, 178, 186, 34]\n",
    "expected = [156, 165.5, 147, 31.5]\n",
    "chi_squared, p_value = stats.chisquare(f_obs = observed, f_exp=expected)\n",
    "chi_squared, p_value"
   ]
  },
  {
   "cell_type": "code",
   "execution_count": 78,
   "metadata": {},
   "outputs": [],
   "source": [
    "observed = np.array([[134, 54], [110, 48]])\n",
    "chi_squared, p_value, degrees_of_freedom, matrix = stats.chi2_contingency (observed = observed)"
   ]
  },
  {
   "cell_type": "code",
   "execution_count": 79,
   "metadata": {},
   "outputs": [
    {
     "data": {
      "text/plain": [
       "(0.04762692369491045, 0.8272452870442226)"
      ]
     },
     "execution_count": 79,
     "metadata": {},
     "output_type": "execute_result"
    }
   ],
   "source": [
    "chi_squared, p_value"
   ]
  },
  {
   "cell_type": "markdown",
   "metadata": {},
   "source": [
    "p_value is relatively large. Fail to reject Ho"
   ]
  }
 ],
 "metadata": {
  "kernelspec": {
   "display_name": "Python 3",
   "language": "python",
   "name": "python3"
  },
  "language_info": {
   "codemirror_mode": {
    "name": "ipython",
    "version": 3
   },
   "file_extension": ".py",
   "mimetype": "text/x-python",
   "name": "python",
   "nbconvert_exporter": "python",
   "pygments_lexer": "ipython3",
   "version": "3.8.8"
  }
 },
 "nbformat": 4,
 "nbformat_minor": 4
}
