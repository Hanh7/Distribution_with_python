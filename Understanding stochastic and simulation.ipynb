{
 "cells": [
  {
   "cell_type": "code",
   "execution_count": 2,
   "metadata": {},
   "outputs": [],
   "source": [
    "import math\n",
    "import numpy as np\n",
    "import numpy.random as npr\n",
    "from pylab import plt, mpl"
   ]
  },
  {
   "cell_type": "code",
   "execution_count": 3,
   "metadata": {},
   "outputs": [],
   "source": [
    "plt.style.use('seaborn')\n",
    "mpl.rcParams['font.family'] = 'serif'\n",
    "%matplotlib inline"
   ]
  },
  {
   "cell_type": "code",
   "execution_count": 4,
   "metadata": {},
   "outputs": [],
   "source": [
    "npr.seed(100)\n",
    "np.set_printoptions(precision = 4)\n"
   ]
  },
  {
   "cell_type": "code",
   "execution_count": 5,
   "metadata": {},
   "outputs": [
    {
     "data": {
      "text/plain": [
       "array([0.5434, 0.2784, 0.4245, 0.8448, 0.0047, 0.1216, 0.6707, 0.8259,\n",
       "       0.1367, 0.5751])"
      ]
     },
     "execution_count": 5,
     "metadata": {},
     "output_type": "execute_result"
    }
   ],
   "source": [
    "npr.rand(10)"
   ]
  },
  {
   "cell_type": "code",
   "execution_count": 6,
   "metadata": {},
   "outputs": [
    {
     "data": {
      "text/plain": [
       "array([[0.8913, 0.2092, 0.1853, 0.1084, 0.2197],\n",
       "       [0.9786, 0.8117, 0.1719, 0.8162, 0.2741],\n",
       "       [0.4317, 0.94  , 0.8176, 0.3361, 0.1754],\n",
       "       [0.3728, 0.0057, 0.2524, 0.7957, 0.0153],\n",
       "       [0.5988, 0.6038, 0.1051, 0.3819, 0.0365]])"
      ]
     },
     "execution_count": 6,
     "metadata": {},
     "output_type": "execute_result"
    }
   ],
   "source": [
    "npr.rand(5,5)"
   ]
  },
  {
   "cell_type": "code",
   "execution_count": 7,
   "metadata": {},
   "outputs": [
    {
     "data": {
      "text/plain": [
       "array([9.4521, 9.9046, 5.2997, 9.4527, 7.8845, 8.7124, 8.1509, 7.9092,\n",
       "       5.1022, 6.0501])"
      ]
     },
     "execution_count": 7,
     "metadata": {},
     "output_type": "execute_result"
    }
   ],
   "source": [
    "a=5\n",
    "b=10\n",
    "npr.rand(10) *(b-a) + a"
   ]
  },
  {
   "cell_type": "code",
   "execution_count": 8,
   "metadata": {},
   "outputs": [
    {
     "data": {
      "text/plain": [
       "array([[7.7234, 8.8456, 6.2535, 6.4295, 9.262 ],\n",
       "       [9.875 , 9.4243, 6.7975, 7.9943, 6.774 ],\n",
       "       [6.701 , 5.8904, 6.1885, 5.2243, 7.5272],\n",
       "       [6.8813, 7.964 , 8.1497, 5.713 , 9.6692],\n",
       "       [9.7319, 8.0115, 6.9388, 6.8159, 6.0217]])"
      ]
     },
     "execution_count": 8,
     "metadata": {},
     "output_type": "execute_result"
    }
   ],
   "source": [
    "npr.rand(5,5) *(b-a) + a"
   ]
  },
  {
   "cell_type": "code",
   "execution_count": 9,
   "metadata": {},
   "outputs": [],
   "source": [
    "sample_size = 500"
   ]
  },
  {
   "cell_type": "code",
   "execution_count": 10,
   "metadata": {},
   "outputs": [],
   "source": [
    "rn1 = npr.rand(sample_size, 3)"
   ]
  },
  {
   "cell_type": "code",
   "execution_count": 11,
   "metadata": {},
   "outputs": [
    {
     "data": {
      "text/plain": [
       "array([[0.2768, 0.2465, 0.1736],\n",
       "       [0.9666, 0.957 , 0.598 ],\n",
       "       [0.7313, 0.3404, 0.0921],\n",
       "       ...,\n",
       "       [0.1908, 0.5499, 0.522 ],\n",
       "       [0.1489, 0.6885, 0.9105],\n",
       "       [0.4814, 0.5752, 0.5589]])"
      ]
     },
     "execution_count": 11,
     "metadata": {},
     "output_type": "execute_result"
    }
   ],
   "source": [
    "rn1"
   ]
  },
  {
   "cell_type": "code",
   "execution_count": 12,
   "metadata": {},
   "outputs": [
    {
     "data": {
      "text/plain": [
       "array([8, 8, 1, 7, 8, 2, 5, 7, 9, 9, 2, 3, 1, 8, 0, 0, 7, 6, 8, 2, 5, 6,\n",
       "       9, 0, 2, 2, 8, 3, 6, 8, 8, 5, 6, 1, 5, 9, 7, 1, 5, 3, 3, 4, 7, 7,\n",
       "       9, 0, 5, 1, 8, 8, 3, 1, 9, 2, 6, 9, 8, 2, 8, 7, 4, 7, 2, 5, 9, 6,\n",
       "       1, 6, 4, 1, 0, 3, 6, 5, 4, 3, 9, 0, 1, 1, 4, 2, 4, 8, 3, 9, 4, 5,\n",
       "       8, 6, 0, 9, 3, 1, 6, 8, 4, 8, 6, 1, 9, 9, 5, 3, 0, 6, 8, 9, 5, 9,\n",
       "       7, 4, 0, 3, 9, 3, 2, 6, 4, 2, 2, 3, 4, 2, 5, 5, 7, 5, 9, 7, 6, 0,\n",
       "       1, 3, 3, 0, 0, 0, 0, 1, 0, 1, 6, 0, 1, 8, 0, 1, 7, 4, 2, 4, 0, 8,\n",
       "       5, 7, 2, 2, 1, 2, 7, 4, 8, 7, 2, 1, 6, 1, 2, 1, 8, 4, 7, 4, 0, 5,\n",
       "       3, 8, 9, 2, 5, 9, 4, 8, 6, 8, 9, 1, 6, 0, 4, 2, 5, 8, 4, 3, 9, 4,\n",
       "       5, 1, 7, 5, 5, 3, 8, 6, 5, 7, 4, 6, 0, 7, 2, 5, 2, 7, 5, 1, 2, 2,\n",
       "       2, 2, 4, 0, 5, 2, 6, 6, 7, 9, 3, 8, 5, 1, 2, 4, 8, 0, 3, 1, 1, 1,\n",
       "       5, 8, 0, 9, 3, 6, 7, 8, 6, 5, 3, 8, 4, 3, 7, 1, 3, 6, 1, 1, 1, 8,\n",
       "       6, 2, 8, 4, 3, 2, 9, 8, 0, 4, 7, 1, 7, 1, 5, 2, 5, 8, 9, 7, 0, 6,\n",
       "       5, 6, 2, 4, 5, 6, 9, 1, 3, 6, 3, 5, 4, 7, 5, 3, 9, 8, 6, 7, 7, 6,\n",
       "       0, 7, 5, 2, 7, 2, 9, 6, 0, 8, 2, 2, 7, 1, 2, 5, 7, 3, 1, 8, 9, 0,\n",
       "       7, 6, 0, 2, 9, 1, 5, 9, 7, 0, 8, 8, 8, 8, 8, 8, 0, 1, 1, 9, 0, 4,\n",
       "       6, 5, 3, 8, 1, 5, 7, 7, 9, 2, 3, 5, 1, 6, 9, 1, 7, 0, 7, 0, 2, 8,\n",
       "       8, 5, 1, 7, 3, 1, 7, 8, 4, 9, 2, 2, 7, 4, 5, 8, 3, 5, 4, 4, 5, 6,\n",
       "       9, 3, 2, 0, 5, 0, 3, 8, 3, 0, 6, 0, 8, 1, 2, 0, 7, 7, 7, 7, 7, 2,\n",
       "       7, 8, 8, 5, 7, 5, 4, 1, 0, 8, 3, 5, 1, 9, 0, 0, 7, 6, 1, 8, 1, 9,\n",
       "       2, 8, 1, 4, 9, 3, 0, 6, 6, 1, 6, 7, 9, 8, 1, 9, 3, 6, 5, 0, 4, 4,\n",
       "       1, 2, 9, 8, 5, 5, 4, 9, 1, 7, 6, 5, 3, 4, 3, 8, 2, 5, 3, 6, 4, 4,\n",
       "       0, 0, 5, 5, 9, 2, 5, 4, 3, 6, 0, 0, 9, 7, 5, 2])"
      ]
     },
     "execution_count": 12,
     "metadata": {},
     "output_type": "execute_result"
    }
   ],
   "source": [
    "rn2 = npr.randint(0,10,sample_size)\n",
    "rn2"
   ]
  },
  {
   "cell_type": "code",
   "execution_count": 18,
   "metadata": {
    "scrolled": true
   },
   "outputs": [
    {
     "data": {
      "text/plain": [
       "array([3.6434e-01, 4.2563e-01, 1.5821e-02, 2.4444e-01, 4.7089e-01,\n",
       "       3.7127e-01, 7.7206e-01, 5.9378e-02, 8.4192e-01, 3.1508e-01,\n",
       "       8.9125e-01, 5.9628e-01, 7.9012e-01, 6.1460e-01, 9.7183e-01,\n",
       "       7.6279e-01, 5.7362e-01, 3.8605e-01, 8.6936e-01, 3.9016e-02,\n",
       "       1.0375e-01, 5.5632e-01, 2.2057e-01, 3.3110e-01, 3.2038e-01,\n",
       "       3.9962e-01, 3.6736e-01, 9.4796e-01, 2.5765e-01, 7.9585e-01,\n",
       "       7.7253e-01, 3.1091e-01, 8.0997e-02, 6.2168e-01, 9.0476e-01,\n",
       "       2.8618e-01, 2.1055e-01, 4.7981e-01, 4.0146e-01, 1.3718e-02,\n",
       "       5.3642e-01, 1.3881e-01, 5.0958e-01, 2.7856e-01, 3.9582e-01,\n",
       "       3.4174e-01, 1.9433e-01, 8.7612e-01, 2.7163e-01, 1.3919e-01,\n",
       "       1.4244e-01, 1.7148e-01, 9.5454e-01, 2.9452e-01, 3.1920e-01,\n",
       "       5.7384e-01, 3.4507e-01, 1.2878e-01, 5.0853e-01, 7.0978e-01,\n",
       "       7.6107e-02, 8.0438e-02, 3.0280e-01, 9.4332e-01, 3.9904e-01,\n",
       "       8.9543e-02, 1.1751e-01, 6.4399e-01, 9.9742e-01, 8.9268e-01,\n",
       "       5.8160e-01, 5.2203e-01, 8.9126e-02, 4.8209e-01, 9.6169e-01,\n",
       "       9.2209e-01, 8.3579e-01, 4.6426e-01, 1.6074e-01, 4.9204e-01,\n",
       "       7.7440e-01, 6.7796e-01, 1.5462e-02, 8.2144e-02, 5.3821e-01,\n",
       "       3.5407e-01, 1.4082e-01, 6.4211e-01, 8.6868e-01, 9.1542e-01,\n",
       "       7.0464e-01, 5.7963e-01, 9.3151e-01, 6.8444e-01, 8.2058e-01,\n",
       "       8.7577e-01, 4.4582e-01, 4.2577e-01, 5.1810e-01, 9.6417e-01,\n",
       "       1.8265e-01, 8.9479e-01, 8.2323e-01, 3.9239e-01, 6.6367e-02,\n",
       "       2.8637e-01, 7.9185e-01, 2.5431e-01, 5.5444e-01, 4.3177e-01,\n",
       "       7.8401e-01, 4.3222e-02, 5.1406e-01, 9.2719e-01, 9.5855e-01,\n",
       "       6.3723e-01, 8.1043e-01, 2.0009e-01, 9.1908e-01, 4.7830e-01,\n",
       "       6.3591e-01, 4.1857e-01, 2.4953e-01, 2.6727e-01, 6.2105e-01,\n",
       "       1.5010e-01, 3.9101e-01, 6.5640e-01, 9.4561e-01, 4.9623e-01,\n",
       "       8.3251e-01, 9.7107e-01, 2.3292e-01, 6.7597e-01, 1.3997e-01,\n",
       "       3.1293e-01, 7.7425e-01, 9.2606e-01, 5.7176e-02, 7.6488e-01,\n",
       "       8.1898e-01, 7.9262e-01, 4.9180e-01, 8.4084e-01, 7.9779e-01,\n",
       "       6.9876e-01, 1.0214e-02, 5.4001e-01, 2.6274e-01, 2.9797e-01,\n",
       "       5.9404e-02, 9.5422e-02, 7.7866e-01, 7.2929e-01, 8.7085e-02,\n",
       "       3.4985e-01, 3.6575e-01, 6.0409e-01, 7.4780e-02, 5.6268e-01,\n",
       "       7.1395e-01, 3.2086e-01, 6.8325e-01, 2.0371e-01, 1.0438e-01,\n",
       "       4.7582e-01, 1.8577e-01, 1.4392e-02, 7.2548e-01, 6.5803e-01,\n",
       "       4.5777e-01, 5.3794e-01, 3.6390e-02, 4.4924e-01, 3.0725e-01,\n",
       "       5.3972e-01, 3.6475e-01, 3.4240e-01, 6.3634e-01, 8.3523e-01,\n",
       "       1.6178e-01, 3.1067e-01, 7.0077e-01, 9.0055e-01, 1.3540e-01,\n",
       "       9.7611e-01, 9.2007e-01, 2.5376e-01, 6.0268e-01, 7.1420e-01,\n",
       "       7.8951e-02, 2.4614e-01, 8.1574e-01, 8.3134e-01, 3.7061e-01,\n",
       "       6.5063e-01, 6.2367e-01, 7.7152e-01, 5.0662e-01, 2.8724e-01,\n",
       "       1.3697e-01, 2.9736e-01, 1.2250e-01, 2.5511e-01, 5.1436e-01,\n",
       "       4.9732e-01, 8.7684e-02, 6.6124e-01, 3.1354e-01, 9.1052e-01,\n",
       "       9.3474e-01, 4.5292e-01, 3.7901e-01, 5.9922e-01, 7.5197e-01,\n",
       "       9.0938e-01, 6.2087e-01, 3.0394e-01, 8.2549e-01, 8.3692e-02,\n",
       "       3.1478e-01, 7.4832e-01, 9.8379e-01, 2.6398e-01, 7.3767e-01,\n",
       "       2.1137e-01, 5.6015e-01, 5.8884e-01, 1.0052e-01, 2.6648e-01,\n",
       "       7.6122e-01, 8.5774e-02, 4.6591e-01, 5.2649e-01, 6.4466e-02,\n",
       "       6.3519e-01, 5.7659e-01, 9.6882e-02, 5.1833e-01, 9.9760e-01,\n",
       "       1.0852e-01, 4.4077e-01, 3.9234e-01, 5.9428e-01, 8.6932e-01,\n",
       "       1.2693e-01, 6.4570e-01, 9.0657e-01, 2.7008e-01, 8.4208e-01,\n",
       "       8.3660e-01, 8.6210e-01, 6.5852e-01, 4.5669e-01, 2.2280e-01,\n",
       "       6.5896e-01, 1.5126e-01, 4.3082e-01, 3.2966e-02, 3.8681e-01,\n",
       "       7.5901e-01, 2.4423e-01, 8.1968e-01, 8.7889e-01, 1.8856e-01,\n",
       "       2.9671e-01, 7.4747e-01, 1.5172e-02, 8.7086e-01, 4.2308e-01,\n",
       "       3.2204e-01, 7.7929e-01, 2.1659e-02, 4.8925e-02, 1.7751e-01,\n",
       "       9.4517e-01, 7.0224e-02, 5.5862e-01, 4.2757e-01, 6.8512e-01,\n",
       "       7.0460e-01, 6.7764e-01, 7.9411e-01, 2.2847e-01, 7.3263e-01,\n",
       "       3.8057e-01, 7.2181e-04, 5.1943e-01, 5.6357e-01, 2.2935e-01,\n",
       "       2.4388e-01, 1.8032e-02, 6.0151e-01, 2.4238e-01, 9.3996e-01,\n",
       "       5.9131e-01, 8.0285e-01, 9.0188e-01, 8.0016e-02, 2.2915e-01,\n",
       "       6.0184e-01, 6.6715e-01, 4.9814e-01, 2.7337e-01, 6.3124e-01,\n",
       "       9.2108e-01, 5.3038e-01, 2.9606e-01, 8.0379e-01, 8.9354e-01,\n",
       "       6.4565e-02, 9.1004e-01, 3.3815e-01, 8.2250e-01, 9.9461e-01,\n",
       "       9.9340e-01, 9.8921e-01, 9.7515e-01, 1.7940e-02, 4.4185e-01,\n",
       "       5.7647e-01, 5.1648e-01, 3.8601e-01, 2.3685e-01, 2.3716e-01,\n",
       "       4.0958e-01, 3.1214e-01, 7.7738e-01, 6.4722e-01, 5.9495e-01,\n",
       "       5.6110e-01, 7.3558e-01, 5.4512e-01, 5.3836e-01, 9.0691e-02,\n",
       "       8.5131e-01, 7.3950e-01, 2.9426e-01, 1.9157e-01, 1.7723e-02,\n",
       "       2.3420e-01, 8.4545e-01, 4.0669e-01, 9.6226e-01, 2.1534e-01,\n",
       "       8.7934e-01, 7.4446e-01, 6.3117e-01, 5.7932e-01, 3.0262e-01,\n",
       "       2.3790e-01, 1.9962e-01, 1.7284e-02, 4.1722e-01, 4.3441e-02,\n",
       "       5.1578e-01, 6.7677e-01, 2.8681e-01, 3.1117e-01, 6.4762e-01,\n",
       "       7.7625e-01, 9.9588e-01, 6.7261e-01, 2.7274e-01, 1.0795e-01,\n",
       "       4.5526e-01, 6.1448e-01, 6.6418e-01, 7.2145e-01, 7.3507e-01,\n",
       "       9.3327e-01, 1.8335e-01, 3.2260e-01, 4.1739e-03, 5.8902e-01,\n",
       "       6.5399e-01, 4.6639e-03, 3.4358e-01, 6.0271e-01, 6.7228e-01,\n",
       "       8.5356e-01, 7.1253e-01, 8.0631e-01, 6.1563e-01, 1.6051e-01,\n",
       "       6.3753e-01, 3.9560e-01, 6.4389e-01, 8.8960e-01, 3.9311e-01,\n",
       "       5.2384e-01, 4.1947e-02, 6.1882e-01, 6.9358e-01, 6.0550e-01,\n",
       "       9.4348e-01, 6.2038e-01, 3.2076e-01, 5.7681e-01, 2.6147e-01,\n",
       "       3.6015e-01, 4.7749e-01, 2.2071e-01, 3.6848e-01, 5.6526e-01,\n",
       "       9.4093e-01, 3.9217e-01, 6.8270e-01, 6.1167e-01, 8.2660e-02,\n",
       "       6.0840e-01, 7.7300e-01, 8.6139e-02, 5.1695e-01, 4.8896e-01,\n",
       "       6.5136e-01, 5.7333e-01, 1.7219e-01, 2.3308e-01, 2.9043e-01,\n",
       "       6.6789e-01, 7.7245e-01, 7.7877e-01, 6.3100e-01, 1.6841e-01,\n",
       "       5.3464e-01, 4.7343e-01, 9.9330e-01, 2.8066e-01, 3.3794e-01,\n",
       "       9.4463e-02, 9.4704e-01, 8.5756e-01, 8.6640e-01, 4.3513e-01,\n",
       "       9.9649e-01, 3.9457e-01, 9.9294e-01, 6.1428e-01, 7.1722e-01,\n",
       "       2.6421e-01, 2.7194e-01, 4.6628e-01, 9.6780e-01, 4.7510e-01,\n",
       "       9.1526e-01, 8.7419e-01, 2.2889e-01, 8.0816e-01, 2.5484e-02,\n",
       "       8.7427e-01, 9.7545e-01, 9.0570e-02, 9.3202e-01, 6.8460e-02,\n",
       "       3.9795e-01, 1.8216e-01, 5.1407e-02, 8.1500e-01, 6.7842e-01,\n",
       "       1.8544e-01, 1.7202e-01, 2.0352e-01, 2.9432e-01, 8.6588e-02,\n",
       "       8.6373e-02, 8.5867e-01, 6.4599e-01, 4.3068e-01, 4.4776e-01,\n",
       "       8.8228e-02, 1.2830e-01, 5.8442e-01, 3.9586e-01, 8.7125e-01,\n",
       "       6.6075e-01, 8.0840e-01, 3.1471e-01, 4.0479e-02, 1.0851e-02,\n",
       "       2.4013e-01, 8.5536e-01, 5.4731e-01, 3.8292e-01, 1.2261e-01,\n",
       "       1.6038e-01, 6.7993e-01, 9.2618e-02, 9.6890e-01, 1.1368e-02,\n",
       "       9.0585e-01, 5.9408e-01, 8.0730e-01, 7.1328e-01, 7.2220e-01,\n",
       "       9.6273e-01, 1.8894e-01, 8.1814e-01, 7.6599e-01, 8.9334e-01])"
      ]
     },
     "execution_count": 18,
     "metadata": {},
     "output_type": "execute_result"
    }
   ],
   "source": [
    "rn3= npr.sample(size = sample_size)\n",
    "rn3"
   ]
  },
  {
   "cell_type": "code",
   "execution_count": 13,
   "metadata": {},
   "outputs": [],
   "source": [
    "a= [0,25,50,75,100]"
   ]
  },
  {
   "cell_type": "code",
   "execution_count": 14,
   "metadata": {},
   "outputs": [],
   "source": [
    "rn4 = npr.choice(a, size = sample_size)"
   ]
  },
  {
   "cell_type": "code",
   "execution_count": 15,
   "metadata": {
    "scrolled": true
   },
   "outputs": [
    {
     "data": {
      "text/plain": [
       "array([  0,  25,  75, 100,  50, 100, 100,  50,  25,   0,  25,  50,  25,\n",
       "       100,   0,  75, 100,  75,  25,  25,   0,  25, 100,   0,  25,  25,\n",
       "        75,   0, 100,  50,  25,  25,  50,  25, 100,   0,  25,  25, 100,\n",
       "        50,  25,   0,  75,  50,  50,  75,  50,  50,  75, 100,   0,   0,\n",
       "         0,  75,  25,  50,  25,  50,  50,  50,  25,  25,   0, 100,  75,\n",
       "        50,   0,  25,  75,  50,  75, 100,  25,  75,   0,  75,  50,  25,\n",
       "       100,  50,  50,  50, 100,  75,  25,   0,  75,  50,   0,  75, 100,\n",
       "        50, 100,  75,  75,  50,  50,  75, 100,  50, 100, 100,  50,  25,\n",
       "       100,  75,  25,  75,  25, 100,  25,   0,  25, 100, 100,  75,   0,\n",
       "         0,  25,   0, 100,   0, 100,  50,  75, 100,  25, 100,  25,  50,\n",
       "       100, 100, 100,  25,  25,  50,  50,   0,  25,  50, 100, 100,  75,\n",
       "         0,  50,  75,  50,  50, 100,  75,  75,  50,   0,  25,  75,  75,\n",
       "         0,  75, 100,   0, 100,  75,  25, 100,   0,   0,  25,  25,   0,\n",
       "        75,  50,  75,  50,   0, 100,  75,  50, 100,   0,  25,  75,  25,\n",
       "        25,  25,   0, 100,  25,  50,  50,   0,  25,  50,   0,   0,  75,\n",
       "        75, 100,   0,  25,   0,  75,  75,  50,  75,  50,  50,   0,  25,\n",
       "        50,  50,   0,  50,   0,  75,  25,   0,  75,  25,   0,  75,   0,\n",
       "        25,  75, 100,  50,   0,  50,  50,  25, 100,  50,  75,   0,   0,\n",
       "       100,  25,  25,   0,  75,  75,  50,   0,  75, 100,  75,  25,   0,\n",
       "       100, 100, 100, 100,   0,  50,   0,   0,  50,  25,  50,  50,  75,\n",
       "       100,   0,   0,  75,  75,  25,  50,   0, 100,  50,  50,  75,   0,\n",
       "        75,  25,  25,  75,   0,  75,  50,  50, 100,  25,  50,  75, 100,\n",
       "         0,  75,  25,  50,  50, 100,  50,  25,   0,   0,  50,  25,   0,\n",
       "        25,   0,  25,   0,   0,  75,  50,   0,   0,  50,  25,  50,  50,\n",
       "        50,  75, 100,  50,  25,   0, 100,  50,   0,   0,  50,  50,  75,\n",
       "        75,  50, 100,  75,  25, 100,   0, 100,  75,  75, 100,  75,  25,\n",
       "       100,  25,  25,  50,  25,  25,  25,  25,  25,  50,  25,  25, 100,\n",
       "       100,  75,  25,  25,  50, 100,   0,  75, 100,  50,  25,  50,   0,\n",
       "         0,  50,  25,  50,  75,  25,  50,  25,  50,   0,  50,  50,  25,\n",
       "        25,   0,  25, 100,  75,  50,  25,  75,  50,  50,  25,  50, 100,\n",
       "        25,   0,  25,   0,   0,  25,  75, 100, 100,  75,   0, 100,  50,\n",
       "        25,   0,  50,  50,  50,  75,  25,  50,  25,  50,  50, 100,  50,\n",
       "        25,  75,   0,   0,  75, 100, 100,  25,   0,   0,  75,   0,  25,\n",
       "        25,  50,  75,   0,   0,  75,  75, 100, 100,   0,  75,  75, 100,\n",
       "         0,  50,  50,  75,   0,  75,  50,   0,   0,  25, 100,   0,  50,\n",
       "        75, 100,  75,  25, 100,  25, 100, 100,  25,   0,   0,   0,  75,\n",
       "        50,   0,  75, 100,  75,  75,  75,  25,  75,  25,  50,   0,  50,\n",
       "       100, 100, 100, 100,  25,  25, 100,  25,  75,  25,  25,   0,  25,\n",
       "        25, 100,  50,  50,  75, 100])"
      ]
     },
     "execution_count": 15,
     "metadata": {},
     "output_type": "execute_result"
    }
   ],
   "source": [
    "rn4"
   ]
  },
  {
   "cell_type": "code",
   "execution_count": 16,
   "metadata": {},
   "outputs": [
    {
     "data": {
      "image/png": "[encoded data removed]",
      "text/plain": [
       "<Figure size 720x576 with 4 Axes>"
      ]
     },
     "metadata": {
      "needs_background": "light"
     },
     "output_type": "display_data"
    }
   ],
   "source": [
    "fig, ((ax1, ax2), (ax3, ax4)) = plt.subplots(nrows=2, ncols = 2, figsize = (10,8)) \n",
    "#tao fig trong de dien du lieu vao"
   ]
  },
  {
   "cell_type": "code",
   "execution_count": 19,
   "metadata": {},
   "outputs": [
    {
     "data": {
      "text/plain": [
       "Text(0.5, 1.0, 'choice')"
      ]
     },
     "execution_count": 19,
     "metadata": {},
     "output_type": "execute_result"
    },
    {
     "data": {
      "image/png": "[encoded data removed]",
      "text/plain": [
       "<Figure size 720x576 with 4 Axes>"
      ]
     },
     "metadata": {
      "needs_background": "light"
     },
     "output_type": "display_data"
    }
   ],
   "source": [
    "fig, ((ax1, ax2), (ax3, ax4)) = plt.subplots(nrows=2, ncols = 2, figsize = (10,8)) \n",
    "ax1.hist(rn1, bins= 25, stacked = True)\n",
    "ax1.set_title(\"rand\")\n",
    "ax2.hist(rn2, bins = 25)\n",
    "ax2.set_title('randint')\n",
    "ax3.hist(rn3, bins = 25)\n",
    "ax3.set_title (\"sample\")\n",
    "ax4.hist(rn4, bins=25)\n",
    "ax4.set_title(\"choice\")\n",
    "#lap dan cac thong tin vao tung fig trong"
   ]
  },
  {
   "cell_type": "code",
   "execution_count": 20,
   "metadata": {},
   "outputs": [],
   "source": [
    "sample_size = 500\n",
    "rn1= npr.standard_normal(sample_size)\n",
    "rn2= npr.normal(100,20, sample_size)\n",
    "rn3= npr.chisquare(df = 0.5, size =sample_size)\n",
    "rn4= npr.poisson(lam=1.0, size = sample_size)"
   ]
  },
  {
   "cell_type": "code",
   "execution_count": 29,
   "metadata": {},
   "outputs": [
    {
     "data": {
      "text/plain": [
       "Text(0.5, 1.0, 'Poisson')"
      ]
     },
     "execution_count": 29,
     "metadata": {},
     "output_type": "execute_result"
    },
    {
     "data": {
      "image/png": "[encoded data removed]",
      "text/plain": [
       "<Figure size 720x576 with 4 Axes>"
      ]
     },
     "metadata": {
      "needs_background": "light"
     },
     "output_type": "display_data"
    }
   ],
   "source": [
    "fig, ((ax1, ax2), (ax3, ax4)) = plt.subplots(nrows = 2, ncols =2, figsize = (10,8))\n",
    "ax1.hist(rn1, bins=25)\n",
    "ax1.set_title('standard normal')\n",
    "ax2.hist(rn2, bins=25)\n",
    "ax2.set_title('normal(100, 20)')\n",
    "ax3.hist(rn3, bins=25)\n",
    "ax3.set_title('chi square')\n",
    "ax4.hist(rn4, bins=25)\n",
    "ax4.set_title('Poisson')"
   ]
  },
  {
   "cell_type": "code",
   "execution_count": 21,
   "metadata": {},
   "outputs": [],
   "source": [
    "S0= 100\n",
    "r = 0.05\n",
    "sigma = 0.25\n",
    "T = 2\n",
    "I = 10000\n",
    "ST1 = S0 * np.exp((r - 0.5 * sigma ** 2) * T + sigma * math.sqrt(T) * npr.standard_normal(I))\n",
    "#Samples from a standard normal distribution (mean=0,stdev=1)\n",
    "#simulate the futures index following standard normal distribution law\n",
    "#index co the co muc gia trai rong theo phan bo nhu the nay"
   ]
  },
  {
   "cell_type": "code",
   "execution_count": 24,
   "metadata": {},
   "outputs": [],
   "source": [
    "import matplotlib.pyplot as plt"
   ]
  },
  {
   "cell_type": "code",
   "execution_count": 28,
   "metadata": {},
   "outputs": [
    {
     "data": {
      "text/plain": [
       "Text(0, 0.5, 'frequency')"
      ]
     },
     "execution_count": 28,
     "metadata": {},
     "output_type": "execute_result"
    },
    {
     "data": {
      "image/png": "[encoded data removed]",
      "text/plain": [
       "<Figure size 720x432 with 1 Axes>"
      ]
     },
     "metadata": {
      "needs_background": "light"
     },
     "output_type": "display_data"
    }
   ],
   "source": [
    "plt.figure(figsize = (10,6))\n",
    "plt.hist(ST1, bins = 50)\n",
    "plt.xlabel('index level')\n",
    "plt.ylabel('frequency')"
   ]
  },
  {
   "cell_type": "code",
   "execution_count": null,
   "metadata": {},
   "outputs": [],
   "source": []
  }
 ],
 "metadata": {
  "kernelspec": {
   "display_name": "Python 3",
   "language": "python",
   "name": "python3"
  },
  "language_info": {
   "codemirror_mode": {
    "name": "ipython",
    "version": 3
   },
   "file_extension": ".py",
   "mimetype": "text/x-python",
   "name": "python",
   "nbconvert_exporter": "python",
   "pygments_lexer": "ipython3",
   "version": "3.8.8"
  }
 },
 "nbformat": 4,
 "nbformat_minor": 4
}
